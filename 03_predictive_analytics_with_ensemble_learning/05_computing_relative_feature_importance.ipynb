{
 "cells": [
  {
   "cell_type": "markdown",
   "metadata": {},
   "source": [
    "# Computing Relative Feature Importance\n",
    "\n",
    "When working with a dataset that contains N-dimensional data points, we have to understand that not all features are equally important. Some are more discriminative than others. If we have this information, we can use it to reduce the dimensional. This is very useful in reducing the complexity and increasing the speed of the algorithm. Redundant features can be safely removed from the dataset.\n",
    "\n",
    "We will be using __AdaBoost__ regressor to compute feature importance. __AdaBoost__, short for __Adaptive Boosting__ is an algorithm that's frequently used in conjuction with other machine learning algorithms to improve their performance. In __AdaBoost__, the training data points are drawn from a distribution to train the current classifier. This distribution is updated iteratively so that the subsequent classifier get to focus on the more difficult data points. The difficult data points are the ones that are misclassified. This is done by updating the distribution at each step. This will make the data points that were previously misclassified more likely to come up in the next sample dataset that is used for training. These classifiers are then cascaded and the decision is taken through weighted majority voting."
   ]
  },
  {
   "cell_type": "code",
   "execution_count": 1,
   "metadata": {
    "collapsed": true
   },
   "outputs": [],
   "source": [
    "import numpy as np\n",
    "import matplotlib.pyplot as plt\n",
    "from sklearn.tree import DecisionTreeRegressor\n",
    "from sklearn.ensemble import AdaBoostRegressor\n",
    "from sklearn import datasets\n",
    "from sklearn.metrics import mean_squared_error, explained_variance_score\n",
    "from sklearn.model_selection import train_test_split\n",
    "from sklearn.utils import shuffle"
   ]
  },
  {
   "cell_type": "code",
   "execution_count": 7,
   "metadata": {
    "collapsed": false
   },
   "outputs": [
    {
     "name": "stdout",
     "output_type": "stream",
     "text": [
      "AdaBoost Regressor\n",
      "Mean Squared Error: 22.3\n",
      "Explained Variance Score: 0.8\n"
     ]
    },
    {
     "data": {
      "image/png": "[encoded data removed]",
      "text/plain": [
       "<matplotlib.figure.Figure at 0x10bb5ae80>"
      ]
     },
     "metadata": {},
     "output_type": "display_data"
    }
   ],
   "source": [
    "# Load housing data\n",
    "housing_data = datasets.load_boston()\n",
    "\n",
    "# Shuffle the data\n",
    "X, y = shuffle(housing_data.data, housing_data.target, random_state=7)\n",
    "\n",
    "# Split the data into training and testing datasets\n",
    "X_train, X_test, y_train, y_test = train_test_split(X, y, test_size=0.2, random_state=7)\n",
    "\n",
    "# AdaBoost Regressor Model\n",
    "regressor = AdaBoostRegressor(DecisionTreeRegressor(max_depth=4), n_estimators=400, random_state=7)\n",
    "regressor.fit(X_train, y_train)\n",
    "\n",
    "# Evaluate the performance of AdaBoostRegressor\n",
    "y_pred = regressor.predict(X_test)\n",
    "mse = mean_squared_error(y_test, y_pred)\n",
    "evs = explained_variance_score(y_test, y_pred)\n",
    "print('AdaBoost Regressor')\n",
    "print('Mean Squared Error: {}'.format(round(mse, 2)))\n",
    "print('Explained Variance Score: {}'.format(round(evs, 2)))\n",
    "\n",
    "# Extract feature importance\n",
    "feature_importances = regressor.feature_importances_\n",
    "feature_names = housing_data.feature_names\n",
    "# Normalize the importance values\n",
    "feature_importances = 100.0 * (feature_importances / max(feature_importances))\n",
    "\n",
    "# Sort the values and flip them\n",
    "index_sorted = np.flipud(np.argsort(feature_importances))\n",
    "\n",
    "# Arrange the X ticks\n",
    "pos = np.arange(index_sorted.shape[0]) + 0.5\n",
    "\n",
    "# Plot the bar graph\n",
    "plt.figure()\n",
    "plt.bar(pos, feature_importances[index_sorted], align='center')\n",
    "plt.xticks(pos, feature_names[index_sorted])\n",
    "plt.ylabel('Relative Importance')\n",
    "plt.title('Feature importance using AdaBoost regressor')\n",
    "plt.show()"
   ]
  }
 ],
 "metadata": {
  "kernelspec": {
   "display_name": "Python 3",
   "language": "python",
   "name": "python3"
  },
  "language_info": {
   "codemirror_mode": {
    "name": "ipython",
    "version": 3
   },
   "file_extension": ".py",
   "mimetype": "text/x-python",
   "name": "python",
   "nbconvert_exporter": "python",
   "pygments_lexer": "ipython3",
   "version": "3.6.2"
  }
 },
 "nbformat": 4,
 "nbformat_minor": 2
}
