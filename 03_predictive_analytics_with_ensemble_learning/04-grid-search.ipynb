{
 "cells": [
  {
   "cell_type": "markdown",
   "metadata": {},
   "source": [
    "# Finding Optimal Training Parameters Using Grid Search\n",
    "\n",
    "When you are working with classifiers, you do not always know what the best parameters are. You cannot brute-force it by checking for all possible combinations manually. This is where grid search becomes useful. Grid search allows us to specify a range of values and the classifier will automatically run various configurations to figure out the best combination of parameters. "
   ]
  },
  {
   "cell_type": "code",
   "execution_count": 5,
   "metadata": {
    "collapsed": false
   },
   "outputs": [],
   "source": [
    "import numpy as np\n",
    "import matplotlib.pyplot as plt\n",
    "from sklearn.metrics import classification_report\n",
    "from sklearn.model_selection import train_test_split, GridSearchCV\n",
    "from sklearn.ensemble import ExtraTreesClassifier"
   ]
  },
  {
   "cell_type": "code",
   "execution_count": 23,
   "metadata": {
    "collapsed": false
   },
   "outputs": [
    {
     "name": "stdout",
     "output_type": "stream",
     "text": [
      "Performance report:\n",
      "             precision    recall  f1-score   support\n",
      "\n",
      "        0.0       0.94      0.81      0.87        79\n",
      "        1.0       0.81      0.86      0.83        70\n",
      "        2.0       0.83      0.91      0.87        76\n",
      "\n",
      "avg / total       0.86      0.86      0.86       225\n",
      "\n",
      "Performance report:\n",
      "             precision    recall  f1-score   support\n",
      "\n",
      "        0.0       0.93      0.84      0.88        79\n",
      "        1.0       0.85      0.86      0.85        70\n",
      "        2.0       0.84      0.92      0.88        76\n",
      "\n",
      "avg / total       0.87      0.87      0.87       225\n",
      "\n"
     ]
    }
   ],
   "source": [
    "# Load input data\n",
    "input_file = 'data_random_forests.txt'\n",
    "data = np.loadtxt(input_file, delimiter=',')\n",
    "X, y = data[:, :-1], data[:, -1]\n",
    "\n",
    "# Separate input data into three classes based on labels\n",
    "class_0 = np.array(X[y==0])\n",
    "class_1 = np.array(X[y==1])\n",
    "class_2 = np.array(X[y==2])\n",
    "\n",
    "# Split the data into training and testing datasets\n",
    "X_train, X_test, y_train, y_test = train_test_split(X, y, test_size=0.25, random_state=5)\n",
    "\n",
    "# Define the parameter grid\n",
    "parameter_grid = [{'n_estimators': [100], \n",
    "                   'max_depth': [2, 4, 7, 12, 16]},\n",
    "                  {'max_depth': [4],\n",
    "                   'n_estimators': [25, 50, 100, 250]}]\n",
    "\n",
    "metrics = ['precision_weighted', 'recall_weighted']\n",
    "\n",
    "for metric in metrics:\n",
    "    classifier = GridSearchCV(ExtraTreesClassifier(random_state=0),\n",
    "                              parameter_grid, \n",
    "                              cv=5,\n",
    "                              scoring=metric)\n",
    "    classifier.fit(X_train, y_train)\n",
    "    \n",
    "    # Print the score for each parameter combination\n",
    "#     print('Grid scores for the parameter grid:')\n",
    "#     for i, params in enumerate(classifier.cv_results_):\n",
    "#         print('{} --> {}'.format(params, 1))\n",
    "    \n",
    "    # Print the performance report\n",
    "    y_pred = classifier.predict(X_test)\n",
    "    print('Performance report:')\n",
    "    print(classification_report(y_test, y_pred))\n",
    "    "
   ]
  }
 ],
 "metadata": {
  "kernelspec": {
   "display_name": "Python 3",
   "language": "python",
   "name": "python3"
  },
  "language_info": {
   "codemirror_mode": {
    "name": "ipython",
    "version": 3
   },
   "file_extension": ".py",
   "mimetype": "text/x-python",
   "name": "python",
   "nbconvert_exporter": "python",
   "pygments_lexer": "ipython3",
   "version": "3.6.2"
  }
 },
 "nbformat": 4,
 "nbformat_minor": 2
}
