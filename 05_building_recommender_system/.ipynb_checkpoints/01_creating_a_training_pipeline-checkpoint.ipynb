{
 "cells": [
  {
   "cell_type": "code",
   "execution_count": 3,
   "metadata": {},
   "outputs": [
    {
     "name": "stdout",
     "output_type": "stream",
     "text": [
      "Predicted output [0 2 2 0 2 0 2 1 0 1 1 2 1 0 2 2 1 0 0 1 0 2 1 1 2 2 0 0 1 2 1 2 1 0 2 2 1\n",
      " 1 2 2 2 0 1 2 2 1 2 2 1 0 1 2 2 1 2 0 2 2 0 2 2 0 1 0 2 2 1 1 1 2 1 1 0 2\n",
      " 0 0 1 2 2 0 0 2 2 2 2 0 0 0 2 2 2 1 2 0 2 1 2 2 0 0 1 1 1 1 2 2 2 2 0 1 1\n",
      " 0 2 1 0 0 1 1 1 1 0 0 0 1 2 1 0 0 2 1 2 0 0 1 0 1 1 0 1 1 1 2 2 0 0 1 2 0\n",
      " 2 2]\n",
      "Score: 0.8866666666666667\n",
      "Indices of selected features: 4, 7, 8, 12, 14, 17, 22\n"
     ]
    }
   ],
   "source": [
    "from sklearn.datasets import samples_generator\n",
    "from sklearn.feature_selection import SelectKBest, f_regression\n",
    "from sklearn.pipeline import Pipeline\n",
    "from sklearn.ensemble import ExtraTreesClassifier\n",
    "\n",
    "# Generate data\n",
    "X, y = samples_generator.make_classification(n_samples=150, \n",
    "                                             n_features=25, \n",
    "                                             n_classes=3, \n",
    "                                             n_informative=6,\n",
    "                                             n_redundant=0, \n",
    "                                             random_state=7)\n",
    "\n",
    "# Select top K features\n",
    "k_best_selector = SelectKBest(f_regression, k=9)\n",
    "\n",
    "# Initialize Extremely Random Forests Classifier\n",
    "classifier = ExtraTreesClassifier(n_estimators=60, max_depth=4)\n",
    "\n",
    "# Construct the pipeline\n",
    "processor_pipeline = Pipeline([('selector', k_best_selector), ('erf', classifier)])\n",
    "\n",
    "# Set the parameter\n",
    "processor_pipeline.set_params(selector__k=7,\n",
    "                              erf__n_estimators=30)\n",
    "\n",
    "# Training the pipeline\n",
    "processor_pipeline.fit(X, y)\n",
    "\n",
    "# Predict outputs for the input data\n",
    "output = processor_pipeline.predict(X)\n",
    "print('Predicted output {}'.format(output))\n",
    "\n",
    "# Print score\n",
    "print('Score: {}'.format(processor_pipeline.score(X, y)))\n",
    "\n",
    "# Print the features chosen by the pipeline selector\n",
    "status = processor_pipeline.named_steps['selector'].get_support()\n",
    "\n",
    "# Extract and print indices of selected features\n",
    "selected = [i for i, x in enumerate(status) if x]\n",
    "print('Indices of selected features: {}'.format(', '.join([str(x) for x in selected])))"
   ]
  }
 ],
 "metadata": {
  "kernelspec": {
   "display_name": "Python 3",
   "language": "python",
   "name": "python3"
  },
  "language_info": {
   "codemirror_mode": {
    "name": "ipython",
    "version": 3
   },
   "file_extension": ".py",
   "mimetype": "text/x-python",
   "name": "python",
   "nbconvert_exporter": "python",
   "pygments_lexer": "ipython3",
   "version": "3.6.3"
  }
 },
 "nbformat": 4,
 "nbformat_minor": 2
}
