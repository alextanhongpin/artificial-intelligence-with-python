{
 "cells": [
  {
   "cell_type": "code",
   "execution_count": 3,
   "metadata": {
    "collapsed": true
   },
   "outputs": [],
   "source": [
    "import json\n",
    "import numpy as np"
   ]
  },
  {
   "cell_type": "code",
   "execution_count": 7,
   "metadata": {
    "collapsed": false
   },
   "outputs": [],
   "source": [
    "def euclidean_score(dataset, user1, user2):\n",
    "    if user1 not in dataset:\n",
    "        raise TypeError('Cannot find ' + user1 + ' in the dataset')\n",
    "    if user2 not in dataset:\n",
    "        raise TypeError('Cannot find ' + user2 + ' in the dataset')\n",
    "    \n",
    "    # Movies rated by both user1 and user2\n",
    "    common_movies = {}\n",
    "\n",
    "    for item in dataset[user1]:\n",
    "        if item in dataset[user2]:\n",
    "            common_movies[item] = 1\n",
    "\n",
    "    # If there are no common movies between the users\n",
    "    # then the score is 0\n",
    "    if len(common_movies) == 0:\n",
    "        return 0\n",
    "    \n",
    "    squared_diff = []\n",
    "    \n",
    "    for item in dataset[user1]:\n",
    "        if item in dataset[user2]:\n",
    "            squared_diff.append(np.square(dataset[user1][item] - dataset[user2][item]))\n",
    "    \n",
    "    return 1 / (1 + np.sqrt(np.sum(squared_diff)))\n",
    "\n",
    "def pearson_score(dataset, user1, user2):\n",
    "    if user1 not in dataset:\n",
    "        raise TypeError('Cannot find ' + user1 + ' in the dataset')\n",
    "    if user2 not in dataset:\n",
    "        raise TypeError('Cannot find ' + user2 + ' in the dataset')\n",
    "    \n",
    "    # Movies rated by both user1 and user2\n",
    "    common_movies = {}\n",
    "    \n",
    "    for item in dataset[user1]:\n",
    "        if item in dataset[user2]:\n",
    "            common_movies[item] = 1\n",
    "    \n",
    "    num_ratings = len(common_movies)\n",
    "    \n",
    "    # If there are no common movies between user1 and user2, then the score is 0\n",
    "    if num_ratings == 0:\n",
    "        return 0\n",
    "    \n",
    "    # Calculate the sum of ratings of all the common movies\n",
    "    user1_sum = np.sum([dataset[user1][item] for item in common_movies])\n",
    "    user2_sum = np.sum([dataset[user2][item] for item in common_movies])\n",
    "    \n",
    "    # Calculate the sum of the squares of ratings of all the common movies\n",
    "    user1_squared_sum = np.sum([dataset[user1][item] for item in common_movies])\n",
    "    user2_squared_sum = np.sum([dataset[user2][item] for item in common_movies])\n",
    "    \n",
    "    # Calculate the sum of products of the ratings of the common movies\n",
    "    sum_of_products = np.sum([dataset[user1][item] * dataset[user2][item] for item in common_movies])\n",
    "    \n",
    "    # Calculate the pearson correlation score\n",
    "    sxy = sum_of_products - (user1_sum * user2_sum / num_ratings)\n",
    "    sxx = user1_squared_sum - np.square(user1_sum) / num_ratings\n",
    "    syy = user2_squared_sum - np.square(user2_sum) / num_ratings\n",
    "    \n",
    "    if sxx * syy == 0:\n",
    "        return 0\n",
    "    \n",
    "    return sxy / np.sqrt(sxx * syy)"
   ]
  },
  {
   "cell_type": "code",
   "execution_count": 15,
   "metadata": {
    "collapsed": true
   },
   "outputs": [],
   "source": [
    "def find_similar_users(dataset, user, num_users):\n",
    "    # Compute pearson score between input user\n",
    "    # and all users in the dataset\n",
    "    scores = np.array([[x, pearson_score(dataset, user, x)] for x in dataset if x != user])\n",
    "    \n",
    "    # Sort the scores in decreasing order\n",
    "    scores_sorted = np.argsort(scores[:, 1])[::-1]\n",
    "    \n",
    "    # Extract the top 'num_users' scores\n",
    "    top_users = scores_sorted[:num_users]\n",
    "    return scores[top_users]"
   ]
  },
  {
   "cell_type": "code",
   "execution_count": 16,
   "metadata": {
    "collapsed": false
   },
   "outputs": [
    {
     "name": "stdout",
     "output_type": "stream",
     "text": [
      "0.585786437627\n",
      "0.243442127135\n",
      "[['Chris Duncan' '0.433012701892']\n",
      " ['Bill Duffy' '0.243442127135']\n",
      " ['Adam Cohen' '0.232897126278']]\n"
     ]
    }
   ],
   "source": [
    "ratings_file = 'ratings.json'\n",
    "user1 = 'David Smith'\n",
    "user2 = 'Bill Duffy'\n",
    "with open(ratings_file, 'r') as f:\n",
    "    data = json.loads(f.read())\n",
    "    \n",
    "    print(euclidean_score(data, user1, user2))\n",
    "    print(pearson_score(data, user1, user2))\n",
    "\n",
    "    print(find_similar_users(data, user1, 3))"
   ]
  }
 ],
 "metadata": {
  "kernelspec": {
   "display_name": "Python 3",
   "language": "python",
   "name": "python3"
  },
  "language_info": {
   "codemirror_mode": {
    "name": "ipython",
    "version": 3
   },
   "file_extension": ".py",
   "mimetype": "text/x-python",
   "name": "python",
   "nbconvert_exporter": "python",
   "pygments_lexer": "ipython3",
   "version": "3.6.2"
  }
 },
 "nbformat": 4,
 "nbformat_minor": 2
}
