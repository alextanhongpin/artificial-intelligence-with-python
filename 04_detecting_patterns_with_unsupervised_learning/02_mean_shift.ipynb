{
 "cells": [
  {
   "cell_type": "markdown",
   "metadata": {},
   "source": [
    "# Estimating the number of clusters with Mean Shift Algorithm\n",
    "\n",
    "__Mean Shift__ is a powerful algorithm used in _unsupervised_ algorithm. It is a non-parametric algorithm used frequently for clustering. It is non-parametric because it does not make any assumptions about the underlying distributions. This is in contrast to parameteric techniques, where we assume that the underlying data follows a standard probability distribution. Mean Shift finds a lot of application in fields like object tracking and real-time data analysis.\n",
    "\n",
    "In the Mean Shift algorithm, we consider the whole feature space as a probability density function. We start with the training dataset and assume that they have been sampled from a probability density function. In this framework, the clusters correspond to the local maxima of the underlying data distribution and the Mean Shift will identify those peaks. \n",
    "\n",
    "The goal of the Mean Shift is to identify the location of centroids. For each data point in the training dataset, it defines a window around it. It then computes the centroid for this window and updates the location to this new centroid. It then repeats the process for this new location by defining a window around it. As we keep doing this, we move closer to the peak of the cluster. Each data point will move towards the cluster it belongs to. The movement is towards a region of higher density.\n",
    "\n",
    "We keep shifting the centroids, also called means, towards the peaks of each cluster. Since we keep shifting the means, it is called Mean Shift! We keep doing this until the algorithm converges, at which state the centroid doesn't move anymore."
   ]
  },
  {
   "cell_type": "code",
   "execution_count": 7,
   "metadata": {
    "collapsed": false
   },
   "outputs": [
    {
     "name": "stdout",
     "output_type": "stream",
     "text": [
      "Center of clusters: [[ 2.95568966  1.95775862]\n",
      " [ 7.17563636  2.18145455]\n",
      " [ 2.17603774  8.03283019]\n",
      " [ 5.97960784  8.39078431]\n",
      " [ 4.81044444  5.07111111]]\n",
      "Number of clusters in input data = 5\n"
     ]
    },
    {
     "data": {
      "image/png": "[encoded data removed]",
      "text/plain": [
       "<matplotlib.figure.Figure at 0x112bab2e8>"
      ]
     },
     "metadata": {},
     "output_type": "display_data"
    }
   ],
   "source": [
    "import numpy as np\n",
    "import matplotlib.pyplot as plt\n",
    "from sklearn.cluster import MeanShift, estimate_bandwidth\n",
    "from itertools import cycle\n",
    "\n",
    "# Load the data from input file\n",
    "input_file = 'data_clustering.txt'\n",
    "X = np.loadtxt(input_file, delimiter=',')\n",
    "\n",
    "# Bandwidth is a parameter of the underlying kernel density estimation process used in Mean Shift\n",
    "# Algorithm. The bandwidth affects the overall convergence rate of the algorithm and the number \n",
    "# of clusters we end up with in the end. If the bandwidth is too small, it might results in too\n",
    "# many clusters. If the value is too large, it will merge distinct clusters.\n",
    "\n",
    "# Estimate the bandwidth of X\n",
    "bandwidth_X = estimate_bandwidth(X, quantile=0.1, n_samples=len(X))\n",
    "\n",
    "# Cluster data with MeanShift\n",
    "meanshift_model = MeanShift(bandwidth=bandwidth_X, bin_seeding=True)\n",
    "meanshift_model.fit(X)\n",
    "\n",
    "# Extract the centers of clusters\n",
    "cluster_centers = meanshift_model.cluster_centers_\n",
    "print('Center of clusters: {}'.format(cluster_centers))\n",
    "\n",
    "# Estimate the number of clusters\n",
    "labels = meanshift_model.labels_\n",
    "num_clusters = len(np.unique(labels))\n",
    "print('Number of clusters in input data = {}'.format(num_clusters))\n",
    "\n",
    "# Plot the points and cluster center\n",
    "plt.figure()\n",
    "markers = 'o*xvs'\n",
    "\n",
    "for i, marker in zip(range(num_clusters), markers):\n",
    "    # Plot the point that belong to the current cluster\n",
    "    plt.scatter(X[labels==i, 0], X[labels==i, 1], marker=marker, color='black')\n",
    "    \n",
    "    # Plot the cluster center\n",
    "    cluster_center = cluster_centers[i]\n",
    "    plt.plot(cluster_center[0], \n",
    "             cluster_center[1], \n",
    "             marker='o', \n",
    "             markerfacecolor='red', \n",
    "             markeredgecolor='black', \n",
    "             markersize=15)\n",
    "plt.title('Clusters')\n",
    "plt.show()"
   ]
  }
 ],
 "metadata": {
  "kernelspec": {
   "display_name": "Python 3",
   "language": "python",
   "name": "python3"
  },
  "language_info": {
   "codemirror_mode": {
    "name": "ipython",
    "version": 3
   },
   "file_extension": ".py",
   "mimetype": "text/x-python",
   "name": "python",
   "nbconvert_exporter": "python",
   "pygments_lexer": "ipython3",
   "version": "3.6.2"
  }
 },
 "nbformat": 4,
 "nbformat_minor": 2
}
