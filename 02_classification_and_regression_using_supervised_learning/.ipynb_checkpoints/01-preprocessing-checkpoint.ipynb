{
 "cells": [
  {
   "cell_type": "markdown",
   "metadata": {},
   "source": [
    "# Preprocessing Data\n",
    "\n",
    "Goal: Preprocess raw data and convert it to the right format. It can be achieved through several ways.\n",
    "\n",
    "1. Binarization\n",
    "2. Mean removal\n",
    "3. Scaling\n",
    "4. Normalization"
   ]
  },
  {
   "cell_type": "markdown",
   "metadata": {},
   "source": [
    "## Binarization\n",
    "\n",
    "Convert numerical values into boolean values."
   ]
  },
  {
   "cell_type": "code",
   "execution_count": 19,
   "metadata": {
    "collapsed": false
   },
   "outputs": [
    {
     "name": "stdout",
     "output_type": "stream",
     "text": [
      "data_binarized:\n",
      " [[ 1.  0.  1.]\n",
      " [ 0.  1.  0.]\n",
      " [ 1.  0.  0.]\n",
      " [ 1.  0.  0.]]\n"
     ]
    }
   ],
   "source": [
    "import numpy as np\n",
    "from sklearn import preprocessing\n",
    "\n",
    "input_data = np.array([[5.2, -2.9, 3.3],\n",
    "                       [-1.2, 7.8, -6.1],\n",
    "                       [3.9, 0.4, 2.1],\n",
    "                       [7.3, -9.9, -4.5]])\n",
    "\n",
    "# Binarize data\n",
    "data_binarized = preprocessing.Binarizer(threshold=2.1).transform(input_data)\n",
    "print('data_binarized:\\n', data_binarized)"
   ]
  },
  {
   "cell_type": "markdown",
   "metadata": {},
   "source": [
    "## Mean Removal\n",
    "\n",
    "Why is it useful to remove the mean from our feature vector?\n",
    "- so that each feature is centered on zero\n",
    "- remove bias from the features in our feature vector"
   ]
  },
  {
   "cell_type": "code",
   "execution_count": 11,
   "metadata": {
    "collapsed": false
   },
   "outputs": [
    {
     "name": "stdout",
     "output_type": "stream",
     "text": [
      "before:\n",
      "mean = [ 3.8  -1.15 -1.3 ]\n",
      "std deviation = [ 3.13129366  6.36651396  4.0620192 ]\n"
     ]
    }
   ],
   "source": [
    "# Print mean and standard deviation\n",
    "print('before:')\n",
    "print('mean = {}'.format(input_data.mean(axis=0)))\n",
    "print('std deviation = {}'.format(input_data.std(axis=0)))"
   ]
  },
  {
   "cell_type": "code",
   "execution_count": 14,
   "metadata": {
    "collapsed": false
   },
   "outputs": [
    {
     "name": "stdout",
     "output_type": "stream",
     "text": [
      "after:\n",
      "mean = [  5.55111512e-17   0.00000000e+00   2.77555756e-17]\n",
      "std deviation = [  5.55111512e-17   0.00000000e+00   2.77555756e-17]\n"
     ]
    }
   ],
   "source": [
    "# Remove mean\n",
    "data_scaled = preprocessing.scale(input_data)\n",
    "print('after:')\n",
    "print('mean = {}'.format(data_scaled.mean(axis=0)))\n",
    "print('std deviation = {}'.format(data_scaled.mean(axis=0)))"
   ]
  },
  {
   "cell_type": "markdown",
   "metadata": {},
   "source": [
    "## Scaling\n",
    "\n",
    "Scales the values so that it lies between the range of 0 to 1"
   ]
  },
  {
   "cell_type": "code",
   "execution_count": 20,
   "metadata": {
    "collapsed": false
   },
   "outputs": [
    {
     "name": "stdout",
     "output_type": "stream",
     "text": [
      "Min max scaled data:\n",
      " [[ 0.75294118  0.39548023  1.        ]\n",
      " [ 0.          1.          0.        ]\n",
      " [ 0.6         0.5819209   0.87234043]\n",
      " [ 1.          0.          0.17021277]]\n"
     ]
    }
   ],
   "source": [
    "data_scaler_minmax = preprocessing.MinMaxScaler(feature_range=(0,1))\n",
    "data_scaler_minmax = data_scaler_minmax.fit_transform(input_data)\n",
    "print('Min max scaled data:\\n', data_scaler_minmax)"
   ]
  }
 ],
 "metadata": {
  "kernelspec": {
   "display_name": "Python 3",
   "language": "python",
   "name": "python3"
  },
  "language_info": {
   "codemirror_mode": {
    "name": "ipython",
    "version": 3
   },
   "file_extension": ".py",
   "mimetype": "text/x-python",
   "name": "python",
   "nbconvert_exporter": "python",
   "pygments_lexer": "ipython3",
   "version": "3.6.2"
  }
 },
 "nbformat": 4,
 "nbformat_minor": 2
}
