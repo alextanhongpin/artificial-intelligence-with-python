{
 "cells": [
  {
   "cell_type": "code",
   "execution_count": 3,
   "metadata": {
    "collapsed": false
   },
   "outputs": [
    {
     "name": "stdout",
     "output_type": "stream",
     "text": [
      "Linear regressor performance\n",
      "Mean absolute error = 3.58\n",
      "Mean squared error = 20.31\n",
      "Median absolute error = 2.99\n",
      "Explain variance score = 0.86\n",
      "R2 score = 0.8648119185190575\n",
      "\n",
      "Linear regression: [ 36.05286276]\n",
      "\n",
      "Polynomial regression: [ 41.47360915]\n"
     ]
    }
   ],
   "source": [
    "import numpy as np\n",
    "from sklearn import linear_model\n",
    "import sklearn.metrics as sm\n",
    "from sklearn.preprocessing import PolynomialFeatures\n",
    "\n",
    "# Input file\n",
    "input_file = 'data_multivar_regr.txt'\n",
    "\n",
    "# Load the file\n",
    "data = np.loadtxt(input_file, delimiter=',')\n",
    "X, y = data[:, :-1], data[:, -1]\n",
    "\n",
    "# Split data into training and testing\n",
    "num_training = int(0.8 * len(X))\n",
    "num_test = len(X) - num_training\n",
    "\n",
    "# Training data\n",
    "X_train, y_train = X[:num_training], y[:num_training]\n",
    "X_test, y_test = X[num_training:], y[num_training:]\n",
    "\n",
    "# Create the linear regressor model\n",
    "linear_regressor = linear_model.LinearRegression()\n",
    "\n",
    "# Train the model using the training sets\n",
    "linear_regressor.fit(X_train, y_train)\n",
    "\n",
    "# Predict the output\n",
    "y_test_pred = linear_regressor.predict(X_test)\n",
    "\n",
    "# Compute performance metrics\n",
    "print('Linear regressor performance')\n",
    "print('Mean absolute error = {}'.format(round(sm.mean_absolute_error(y_test, y_test_pred), 2)))\n",
    "print('Mean squared error = {}'.format(round(sm.mean_squared_error(y_test, y_test_pred), 2)))\n",
    "print('Median absolute error = {}'.format(round(sm.median_absolute_error(y_test, y_test_pred), 2)))\n",
    "print('Explain variance score = {}'.format(round(sm.explained_variance_score(y_test, y_test_pred), 2)))\n",
    "print('R2 score = {}'.format(sm.r2_score(y_test, y_test_pred), 2))\n",
    "\n",
    "# Polynomial Regression\n",
    "polynomial = PolynomialFeatures(degree=10)\n",
    "X_train_transformed = polynomial.fit_transform(X_train)\n",
    "datapoint = [[7.75, 6.35, 5.56]]\n",
    "poly_datapoint = polynomial.fit_transform(datapoint)\n",
    "\n",
    "# Create linear model to compare the difference\n",
    "poly_linear_model = linear_model.LinearRegression()\n",
    "poly_linear_model.fit(X_train_transformed, y_train)\n",
    "\n",
    "print('\\nLinear regression:', linear_regressor.predict(datapoint))\n",
    "print('\\nPolynomial regression:', poly_linear_model.predict(poly_datapoint))"
   ]
  }
 ],
 "metadata": {
  "kernelspec": {
   "display_name": "Python 3",
   "language": "python",
   "name": "python3"
  },
  "language_info": {
   "codemirror_mode": {
    "name": "ipython",
    "version": 3
   },
   "file_extension": ".py",
   "mimetype": "text/x-python",
   "name": "python",
   "nbconvert_exporter": "python",
   "pygments_lexer": "ipython3",
   "version": "3.6.2"
  }
 },
 "nbformat": 4,
 "nbformat_minor": 2
}
