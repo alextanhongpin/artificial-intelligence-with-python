{
 "cells": [
  {
   "cell_type": "markdown",
   "metadata": {},
   "source": [
    "# Normalization\n",
    "\n",
    "The most common form of normalization aim to modify the values so that they sum up to 1.\n",
    "\n",
    "__L1 Normalization__, which refers to __Least Absolute Deviations__ works by making sure that the sum of absolute values is 1 in each row.\n",
    "\n",
    "__L2 Normalization__, which refers to __Least Squares__ works by making sure the sum of squares is 1.\n",
    "\n",
    "Which one to pick? Generally L1 normalization is more robust that L2, as it is resistant to outliers in the data. \n",
    "L1 normalization will safely ignore them during the calculations. \n",
    "\n",
    "If we are solving a problem where outliers are important, then maybe L2 normalization becomes a better choice."
   ]
  },
  {
   "cell_type": "code",
   "execution_count": 7,
   "metadata": {
    "collapsed": false
   },
   "outputs": [
    {
     "name": "stdout",
     "output_type": "stream",
     "text": [
      "data_normalized_l1:\n",
      " [[ 0.45614035 -0.25438596  0.28947368]\n",
      " [-0.0794702   0.51655629 -0.40397351]\n",
      " [ 0.609375    0.0625      0.328125  ]\n",
      " [ 0.33640553 -0.4562212  -0.20737327]]\n",
      "data_normalized_l2:\n",
      " [[ 0.76388033 -0.42601019  0.48477021]\n",
      " [-0.12030718  0.78199664 -0.61156148]\n",
      " [ 0.87690281  0.08993875  0.47217844]\n",
      " [ 0.55734935 -0.75585734 -0.34357152]]\n"
     ]
    }
   ],
   "source": [
    "# import numpy as np\n",
    "from sklearn.preprocessing import normalize\n",
    "\n",
    "input_data = np.array([[5.2, -2.9, 3.3],\n",
    "                       [-1.2, 7.8, -6.1],\n",
    "                       [3.9, 0.4, 2.1],\n",
    "                       [7.3, -9.9, -4.5]])\n",
    "\n",
    "# Normalize data\n",
    "data_normalized_l1 = normalize(input_data, norm='l1')\n",
    "data_normalized_l2 = normalize(input_data, norm='l2')\n",
    "\n",
    "print('data_normalized_l1:\\n', data_normalized_l1)\n",
    "print('data_normalized_l2:\\n', data_normalized_l2)"
   ]
  }
 ],
 "metadata": {
  "kernelspec": {
   "display_name": "Python 3",
   "language": "python",
   "name": "python3"
  },
  "language_info": {
   "codemirror_mode": {
    "name": "ipython",
    "version": 3
   },
   "file_extension": ".py",
   "mimetype": "text/x-python",
   "name": "python",
   "nbconvert_exporter": "python",
   "pygments_lexer": "ipython3",
   "version": "3.6.2"
  }
 },
 "nbformat": 4,
 "nbformat_minor": 2
}
