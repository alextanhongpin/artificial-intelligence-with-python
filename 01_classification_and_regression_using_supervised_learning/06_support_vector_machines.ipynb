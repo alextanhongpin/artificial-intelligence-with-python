{
 "cells": [
  {
   "cell_type": "markdown",
   "metadata": {},
   "source": [
    "# Support Vector Machines\n",
    "\n",
    "A __Support Vector Machines__ is a classifier that is defined using a separating hyperplane between classes. The __hyperplane__ is the N-dimensional version of a line. Given labeled training data and a binary classification problem, the SVM finds the optimal hyperplane that separates the training data into two classes. "
   ]
  },
  {
   "cell_type": "code",
   "execution_count": 21,
   "metadata": {
    "collapsed": true
   },
   "outputs": [],
   "source": [
    "import numpy as np\n",
    "import matplotlib.pyplot as plt\n",
    "from sklearn import preprocessing\n",
    "from sklearn.svm import LinearSVC\n",
    "from sklearn.multiclass import OneVsOneClassifier\n",
    "from sklearn.model_selection import train_test_split, cross_val_score"
   ]
  },
  {
   "cell_type": "code",
   "execution_count": 37,
   "metadata": {
    "collapsed": false
   },
   "outputs": [
    {
     "name": "stdout",
     "output_type": "stream",
     "text": [
      "F1 score: 22.26%\n",
      "<=50K\n",
      "['Federal-gov' 'Local-gov' 'Private' 'Self-emp-inc' 'Self-emp-not-inc'\n",
      " 'State-gov' 'Without-pay']\n",
      "['10th' '11th' '12th' '1st-4th' '5th-6th' '7th-8th' '9th' 'Assoc-acdm'\n",
      " 'Assoc-voc' 'Bachelors' 'Doctorate' 'HS-grad' 'Masters' 'Preschool'\n",
      " 'Prof-school' 'Some-college']\n",
      "['Divorced' 'Married-AF-spouse' 'Married-civ-spouse'\n",
      " 'Married-spouse-absent' 'Never-married' 'Separated' 'Widowed']\n",
      "['Adm-clerical' 'Armed-Forces' 'Craft-repair' 'Exec-managerial'\n",
      " 'Farming-fishing' 'Handlers-cleaners' 'Machine-op-inspct' 'Other-service'\n",
      " 'Priv-house-serv' 'Prof-specialty' 'Protective-serv' 'Sales'\n",
      " 'Tech-support' 'Transport-moving']\n",
      "['Husband' 'Not-in-family' 'Other-relative' 'Own-child' 'Unmarried' 'Wife']\n",
      "['Amer-Indian-Eskimo' 'Asian-Pac-Islander' 'Black' 'Other' 'White']\n",
      "['Female' 'Male']\n",
      "['Cambodia' 'Canada' 'China' 'Columbia' 'Cuba' 'Dominican-Republic'\n",
      " 'Ecuador' 'El-Salvador' 'England' 'France' 'Germany' 'Greece' 'Guatemala'\n",
      " 'Haiti' 'Honduras' 'Hong' 'Hungary' 'India' 'Iran' 'Ireland' 'Italy'\n",
      " 'Jamaica' 'Japan' 'Laos' 'Mexico' 'Nicaragua' 'Outlying-US(Guam-USVI-etc)'\n",
      " 'Peru' 'Philippines' 'Poland' 'Portugal' 'Puerto-Rico' 'Scotland' 'South'\n",
      " 'Taiwan' 'Thailand' 'Trinadad&Tobago' 'United-States' 'Vietnam'\n",
      " 'Yugoslavia']\n",
      "['<=50K' '>50K']\n"
     ]
    }
   ],
   "source": [
    "# Input file containing data\n",
    "input_file = 'income_data.txt'\n",
    "\n",
    "# Read the data\n",
    "X = []\n",
    "y = []\n",
    "count_class1 = 0\n",
    "count_class2 = 0\n",
    "max_datapoints = 25000\n",
    "\n",
    "with open(input_file, 'r') as f:\n",
    "    for line in f.readlines():\n",
    "        if count_class1 >= max_datapoints and count_class2 >= max_datapoints:\n",
    "            break\n",
    "        if '?' in line:\n",
    "            continue\n",
    "        \n",
    "        data = line[:-1].split(', ')\n",
    "        if data[-1] == '<=50K' and count_class1 < max_datapoints:\n",
    "            X.append(data)\n",
    "            count_class1 += 1\n",
    "        \n",
    "        if data[-1] == '>50K' and count_class2 < max_datapoints:\n",
    "            X.append(data)\n",
    "            count_class2 += 1\n",
    "\n",
    "# Convert to numpy array\n",
    "X = np.array(X)\n",
    "\n",
    "# Convert string data to numerical data\n",
    "label_encoder = []\n",
    "X_encoded = np.empty(X.shape)\n",
    "\n",
    "for i, item in enumerate(X[0]):\n",
    "    if item.isdigit():\n",
    "        X_encoded[:, i] = X[:, i]\n",
    "    else:\n",
    "        label_encoder.append(preprocessing.LabelEncoder())\n",
    "        X_encoded[:, i] = label_encoder[-1].fit_transform(X[:, i])\n",
    "\n",
    "X = X_encoded[:, :-1].astype(int)\n",
    "y = X_encoded[:, -1].astype(int)\n",
    "\n",
    "# Cross validation\n",
    "X_train, X_test, y_train, y_test = train_test_split(X, y, test_size=0.2, random_state=5)\n",
    "\n",
    "# Create the SVM with a linear kernel\n",
    "classifier = OneVsOneClassifier(LinearSVC(random_state=0))\n",
    "\n",
    "# Train the classifier\n",
    "classifier.fit(X_train, y_train)\n",
    "y_test_pred = classifier.predict(X_test)\n",
    "    \n",
    "# Compute the f1 score of the SVM classifier\n",
    "f1 = cross_val_score(classifier, X, y, scoring='f1_weighted', cv=3)\n",
    "print('F1 score: {}%'.format(round(100 * f1.mean(), 2)))\n",
    "\n",
    "input_data = ['37', 'Private', '215646', 'HS-grad', '9', 'Never-married', 'Handlers-cleaners', 'Not-in-family', 'White', 'Male', '0', '0', '40', 'United-States']\n",
    "\n",
    "# Encode test datapoint\n",
    "input_data_encoded = [-1] * len(input_data)\n",
    "count = 0\n",
    "for i, item in enumerate(input_data):\n",
    "    if item.isdigit():\n",
    "        input_data_encoded[i] = int(item)\n",
    "    else:\n",
    "        input_data_encoded[i] = int(label_encoder[count].transform([item])[0])\n",
    "        count += 1\n",
    "\n",
    "input_data_encoded = np.array(input_data_encoded)\n",
    "\n",
    "\n",
    "# Run classifier on encoded datapoints and print output\n",
    "predicted_class = classifier.predict([input_data_encoded])\n",
    "print(label_encoder[-1].inverse_transform(predicted_class)[0])\n",
    "\n",
    "for i, item in enumerate(label_encoder):\n",
    "    print(item.classes_)"
   ]
  }
 ],
 "metadata": {
  "kernelspec": {
   "display_name": "Python 3",
   "language": "python",
   "name": "python3"
  },
  "language_info": {
   "codemirror_mode": {
    "name": "ipython",
    "version": 3
   },
   "file_extension": ".py",
   "mimetype": "text/x-python",
   "name": "python",
   "nbconvert_exporter": "python",
   "pygments_lexer": "ipython3",
   "version": "3.6.2"
  }
 },
 "nbformat": 4,
 "nbformat_minor": 2
}
