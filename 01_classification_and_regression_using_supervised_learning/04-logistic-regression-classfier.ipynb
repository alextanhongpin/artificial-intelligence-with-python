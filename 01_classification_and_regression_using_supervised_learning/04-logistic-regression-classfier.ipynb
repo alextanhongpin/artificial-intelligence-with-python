{
 "cells": [
  {
   "cell_type": "markdown",
   "metadata": {
    "collapsed": true
   },
   "source": [
    "# Logistic Regression Classifier\n",
    "\n",
    "Is used to identify the relationship between the independent variables and the dependent variables by estimating the probabilities using a logistic function. This logistic function is a __sigmoid curve__ that is used to build the function with various parameters."
   ]
  },
  {
   "cell_type": "code",
   "execution_count": 2,
   "metadata": {
    "collapsed": true
   },
   "outputs": [],
   "source": [
    "import numpy as np\n",
    "from sklearn import linear_model\n",
    "import matplotlib.pyplot as plt"
   ]
  },
  {
   "cell_type": "code",
   "execution_count": null,
   "metadata": {
    "collapsed": true
   },
   "outputs": [],
   "source": [
    "def visualize_classifier(classifier, X, y):\n",
    "    # Define the maximum and minimum values for x and y that will be used in the mesh grid\n",
    "    min_x, max_x = X[:, 0].min() - 1.0, X[:, 0].max() + 1.0\n",
    "    min_y, max_y = X[:, 1].min() - 1.0, X[:, 1].max() + 1.0\n",
    "    \n",
    "    # Define the step size to use in plotting the mesh grid\n",
    "    mesh_step_size = 0.01\n",
    "    \n",
    "    # Define the mesh grid of X and y values\n",
    "    x_vals, y_vals = np.meshgrid(np.arange(min_x, max_x, mesh_step_size), \n",
    "                                 np.arange(min_y, max_y, mesh_step_size))\n",
    "    \n",
    "    # Run the classifier on the mesh grid\n",
    "    output = classifier.predict(np.c_[x_vals.ravel(), y_vals.ravel()])\n",
    "    \n",
    "    # Reshape the output array\n",
    "    output = output.reshape(x_vals.shape)\n",
    "    \n",
    "    # Create a plot"
   ]
  }
 ],
 "metadata": {
  "kernelspec": {
   "display_name": "Python 3",
   "language": "python",
   "name": "python3"
  },
  "language_info": {
   "codemirror_mode": {
    "name": "ipython",
    "version": 3
   },
   "file_extension": ".py",
   "mimetype": "text/x-python",
   "name": "python",
   "nbconvert_exporter": "python",
   "pygments_lexer": "ipython3",
   "version": "3.6.2"
  }
 },
 "nbformat": 4,
 "nbformat_minor": 2
}
