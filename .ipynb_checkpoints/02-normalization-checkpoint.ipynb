{
 "cells": [
  {
   "cell_type": "markdown",
   "metadata": {},
   "source": [
    "# Normalization\n",
    "\n",
    "The most common form of normalization aim to modify the values so that they sum up to 1.\n",
    "\n",
    "__L1 Normalization__, which refers to __Least Absolute Deviations__ works by making sure that the sum of absolute values is 1 in each row.\n",
    "\n",
    "__L2 Normalization__, which refers to __Least Squares__ works by making sure the sum of squares is 1.\n",
    "\n",
    "Which one to pick? Generally L1 normalization is more robust that L2, as it is resistant to outliers in the data. \n",
    "L1 normalization will safely ignore them during the calculations. \n",
    "\n",
    "If we are solving a problem where outliers are important, then maybe L2 normalization becomes a better choice."
   ]
  },
  {
   "cell_type": "code",
   "execution_count": null,
   "metadata": {
    "collapsed": true
   },
   "outputs": [],
   "source": [
    "from sklearn.preprocessing import normalize\n",
    "# Normalize data\n",
    "\n",
    "\n",
    "\n",
    "data_normalized_l1 = normalize(input_data, norm='l1')"
   ]
  }
 ],
 "metadata": {
  "kernelspec": {
   "display_name": "Python 3",
   "language": "python",
   "name": "python3"
  },
  "language_info": {
   "codemirror_mode": {
    "name": "ipython",
    "version": 3
   },
   "file_extension": ".py",
   "mimetype": "text/x-python",
   "name": "python",
   "nbconvert_exporter": "python",
   "pygments_lexer": "ipython3",
   "version": "3.6.2"
  }
 },
 "nbformat": 4,
 "nbformat_minor": 2
}
