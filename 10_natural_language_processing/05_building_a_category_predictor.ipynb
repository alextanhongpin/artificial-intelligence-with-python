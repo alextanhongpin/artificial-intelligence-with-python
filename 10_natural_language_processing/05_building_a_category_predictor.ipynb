{
 "cells": [
  {
   "cell_type": "code",
   "execution_count": 2,
   "metadata": {},
   "outputs": [],
   "source": [
    "from sklearn.datasets import fetch_20newsgroups\n",
    "from sklearn.naive_bayes import MultinomialNB\n",
    "from sklearn.feature_extraction.text import TfidfTransformer\n",
    "from sklearn.feature_extraction.text import CountVectorizer"
   ]
  },
  {
   "cell_type": "code",
   "execution_count": 3,
   "metadata": {},
   "outputs": [],
   "source": [
    "# Define the category map\n",
    "category_map = {\n",
    "    'talk.politics.misc': 'Politics',\n",
    "    'rec.autos': 'Autos',\n",
    "    'rec.sport.hockey': 'Hockey',\n",
    "    'sci.electronics': 'Electronics',\n",
    "    'sci.med': 'Medicine'\n",
    "}\n",
    "\n",
    "# Get the training dataset\n",
    "training_data = fetch_20newsgroups(subset='train',\n",
    "                                   categories=category_map.keys(),\n",
    "                                   shuffle=True,\n",
    "                                   random_state=5)"
   ]
  },
  {
   "cell_type": "code",
   "execution_count": 8,
   "metadata": {},
   "outputs": [
    {
     "name": "stdout",
     "output_type": "stream",
     "text": [
      "Dimensions of training data: (2844, 40321)\n"
     ]
    }
   ],
   "source": [
    "# Build a count vectorizer and extract term counts\n",
    "count_vectorizer = CountVectorizer()\n",
    "train_tc = count_vectorizer.fit_transform(training_data.data)\n",
    "print('Dimensions of training data:', train_tc.shape)\n",
    "\n",
    "# Create the tfidf transformer\n",
    "tfidf = TfidfTransformer()\n",
    "train_tfidf = tfidf.fit_transform(train_tc)"
   ]
  },
  {
   "cell_type": "code",
   "execution_count": 9,
   "metadata": {},
   "outputs": [
    {
     "name": "stdout",
     "output_type": "stream",
     "text": [
      "\n",
      "Input: You need to be careful with cars when you are driving on slippery roads \n",
      "Predicted category: Autos\n",
      "\n",
      "Input: A lot of devices can be operated wirelessly \n",
      "Predicted category: Electronics\n",
      "\n",
      "Input: Players need to be careful when they are close to goal post \n",
      "Predicted category: Hockey\n",
      "\n",
      "Input: Political debates help us to understand the perspectives of both sides \n",
      "Predicted category: Politics\n"
     ]
    }
   ],
   "source": [
    "# Define test data\n",
    "input_data = [\n",
    "    'You need to be careful with cars when you are driving on slippery roads',\n",
    "    'A lot of devices can be operated wirelessly',\n",
    "    'Players need to be careful when they are close to goal post',\n",
    "    'Political debates help us to understand the perspectives of both sides'\n",
    "]\n",
    "\n",
    "# Train a Multinomial Naive Bayes classifier\n",
    "classifier = MultinomialNB().fit(train_tfidf, training_data.target)\n",
    "\n",
    "# Transform input data using count vectorizer\n",
    "input_tc = count_vectorizer.transform(input_data)\n",
    "\n",
    "# Transform vectorized data using tfidf transformer\n",
    "input_tfidf = tfidf.transform(input_tc)\n",
    "\n",
    "# Predict the output categories\n",
    "predictions = classifier.predict(input_tfidf)\n",
    "\n",
    "# Print the outputs\n",
    "for sent, category in zip(input_data, predictions):\n",
    "    print('\\nInput:', \n",
    "          sent, \n",
    "          '\\nPredicted category:', \n",
    "          category_map[training_data.target_names[category]])"
   ]
  }
 ],
 "metadata": {
  "kernelspec": {
   "display_name": "Python 3",
   "language": "python",
   "name": "python3"
  },
  "language_info": {
   "codemirror_mode": {
    "name": "ipython",
    "version": 3
   },
   "file_extension": ".py",
   "mimetype": "text/x-python",
   "name": "python",
   "nbconvert_exporter": "python",
   "pygments_lexer": "ipython3",
   "version": "3.6.3"
  }
 },
 "nbformat": 4,
 "nbformat_minor": 2
}
