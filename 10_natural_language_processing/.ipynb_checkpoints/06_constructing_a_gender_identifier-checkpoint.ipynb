{
 "cells": [
  {
   "cell_type": "code",
   "execution_count": 14,
   "metadata": {},
   "outputs": [],
   "source": [
    "import random\n",
    "\n",
    "from nltk import NaiveBayesClassifier\n",
    "from nltk.classify import accuracy as nltk_accuracy\n",
    "from nltk.corpus import names"
   ]
  },
  {
   "cell_type": "code",
   "execution_count": 12,
   "metadata": {},
   "outputs": [],
   "source": [
    "# Extract last N letters from the input word\n",
    "# and that will act as our 'features'\n",
    "\n",
    "def extract_features(word, N=2):\n",
    "    last_n_letters = word[-N:]\n",
    "    return {'feature': last_n_letters.lower()}"
   ]
  },
  {
   "cell_type": "code",
   "execution_count": 20,
   "metadata": {},
   "outputs": [
    {
     "name": "stdout",
     "output_type": "stream",
     "text": [
      "Number of end letters: 1\n",
      "accuracy: 74.7 %\n",
      "Alexander => male\n",
      "Danielle => female\n",
      "David => male\n",
      "Cheryl => male\n",
      "Number of end letters: 2\n",
      "accuracy: 78.79 %\n",
      "Alexander => male\n",
      "Danielle => female\n",
      "David => male\n",
      "Cheryl => female\n",
      "Number of end letters: 3\n",
      "accuracy: 77.22 %\n",
      "Alexander => male\n",
      "Danielle => female\n",
      "David => male\n",
      "Cheryl => female\n",
      "Number of end letters: 4\n",
      "accuracy: 69.98 %\n",
      "Alexander => male\n",
      "Danielle => female\n",
      "David => male\n",
      "Cheryl => female\n",
      "Number of end letters: 5\n",
      "accuracy: 64.63 %\n",
      "Alexander => male\n",
      "Danielle => female\n",
      "David => male\n",
      "Cheryl => female\n"
     ]
    }
   ],
   "source": [
    "if __name__ == '__main__':\n",
    "    # Create training data using labelled names available in NLTK\n",
    "    male_list = [(name, 'male') for name in names.words('male.txt')]\n",
    "    female_list = [(name, 'female') for name in names.words('female.txt')]\n",
    "    data = (male_list + female_list)\n",
    "    \n",
    "    # Seed the random number generator\n",
    "    random.seed(5)\n",
    "    \n",
    "    # Shuffle the data\n",
    "    random.shuffle(data)\n",
    "    \n",
    "    # Create test data\n",
    "    input_names = ['Alexander', 'Danielle', 'David', 'Cheryl']\n",
    "    \n",
    "    # Define the number of samples used for train and test\n",
    "    num_train = int(0.8 * len(data))\n",
    "    \n",
    "    # Iterate through different length to compare the accuracy\n",
    "    for i in range(1, 6):\n",
    "        print('Number of end letters:', i)\n",
    "        features = [(extract_features(n, i), gender) for (n, gender) in data]\n",
    "        \n",
    "        train_data, test_data = features[:num_train], features[num_train:]\n",
    "\n",
    "        classifier = NaiveBayesClassifier.train(train_data)\n",
    "\n",
    "        # Compute accuracy of the classifier\n",
    "        accuracy = round(100 * nltk_accuracy(classifier, test_data), 2)\n",
    "        print('accuracy:', str(accuracy), '%')\n",
    "\n",
    "        # Predict outputs for input anmes using the trained classifier model\n",
    "        for name in input_names:\n",
    "            print(name, '=>', classifier.classify(extract_features(name, i)))\n",
    "    "
   ]
  }
 ],
 "metadata": {
  "kernelspec": {
   "display_name": "Python 3",
   "language": "python",
   "name": "python3"
  },
  "language_info": {
   "codemirror_mode": {
    "name": "ipython",
    "version": 3
   },
   "file_extension": ".py",
   "mimetype": "text/x-python",
   "name": "python",
   "nbconvert_exporter": "python",
   "pygments_lexer": "ipython3",
   "version": "3.6.3"
  }
 },
 "nbformat": 4,
 "nbformat_minor": 2
}
