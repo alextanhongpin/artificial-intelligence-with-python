{
 "cells": [
  {
   "cell_type": "code",
   "execution_count": 4,
   "metadata": {},
   "outputs": [],
   "source": [
    "from nltk.corpus import movie_reviews\n",
    "from nltk.classify import NaiveBayesClassifier\n",
    "from nltk.classify.util import accuracy as nltk_accuracy"
   ]
  },
  {
   "cell_type": "code",
   "execution_count": 5,
   "metadata": {},
   "outputs": [],
   "source": [
    "# Extract features from the input list of words\n",
    "def extract_features(words):\n",
    "    return dict([(word, True) for word in words])"
   ]
  },
  {
   "cell_type": "code",
   "execution_count": 6,
   "metadata": {},
   "outputs": [
    {
     "name": "stdout",
     "output_type": "stream",
     "text": [
      "Number of training datapoints: 1600\n",
      "Number of test datapoints: 400\n",
      "Accuracy of the classifier: 0.735\n",
      "Top 15 most informative words\n",
      "1. outstanding\n",
      "2. insulting\n",
      "3. vulnerable\n",
      "4. ludicrous\n",
      "5. uninvolving\n",
      "6. astounding\n",
      "7. avoids\n",
      "8. fascination\n",
      "9. darker\n",
      "10. seagal\n",
      "11. affecting\n",
      "12. symbol\n",
      "13. anna\n",
      "14. animators\n",
      "15. idiotic\n",
      "Movie review predictions:\n",
      "\n",
      "Review: The costumes in this movie were great\n",
      "Predicted sentiment: Positive\n",
      "Probability: 0.59\n",
      "\n",
      "Review: I think the story was terrible and the characters were very weak\n",
      "Predicted sentiment: Negative\n",
      "Probability: 0.8\n",
      "\n",
      "Review: People say that the director of the movie is amazing\n",
      "Predicted sentiment: Positive\n",
      "Probability: 0.6\n",
      "\n",
      "Review: This is such an idiotic movie. I will not recommend it to anyone\n",
      "Predicted sentiment: Negative\n",
      "Probability: 0.88\n"
     ]
    }
   ],
   "source": [
    "if __name__ == '__main__':\n",
    "    # Load the reviews from the corpus\n",
    "    fileids_pos = movie_reviews.fileids('pos')\n",
    "    fileids_neg = movie_reviews.fileids('neg')\n",
    "    \n",
    "    # Extract the features from the reviews\n",
    "    features_pos = [(extract_features(movie_reviews.words(fileids=[f])), 'Positive') for f in fileids_pos]\n",
    "    features_neg = [(extract_features(movie_reviews.words(fileids=[f])), 'Negative') for f in fileids_neg]\n",
    "    \n",
    "    # Define the train and test split (80% and 20%)\n",
    "    threshold = 0.8\n",
    "    num_pos = int(threshold * len(features_pos))\n",
    "    num_neg = int(threshold * len(features_neg))\n",
    "    \n",
    "    # Create training and testing datasets\n",
    "    features_train = features_pos[:num_pos] + features_neg[:num_neg]\n",
    "    features_test = features_pos[num_pos:] + features_neg[num_neg:]\n",
    "    \n",
    "    # Print the number of datapoints used\n",
    "    print('Number of training datapoints:', len(features_train))\n",
    "    print('Number of test datapoints:', len(features_test))\n",
    "    \n",
    "    # Train a Naive Bayes classifier\n",
    "    classifier = NaiveBayesClassifier.train(features_train)\n",
    "    print('Accuracy of the classifier:', nltk_accuracy(classifier, features_test))\n",
    "    \n",
    "    N = 15\n",
    "    print('Top {} most informative words'.format(N))\n",
    "    for i, item in enumerate(classifier.most_informative_features()):\n",
    "        print('{}. {}'.format(i + 1, item[0]))\n",
    "        if i == N - 1:\n",
    "            break\n",
    "    \n",
    "    # Test input movie reviews\n",
    "    input_reviews = [\n",
    "        'The costumes in this movie were great',\n",
    "        'I think the story was terrible and the characters were very weak',\n",
    "        'People say that the director of the movie is amazing',\n",
    "        'This is such an idiotic movie. I will not recommend it to anyone'\n",
    "    ]\n",
    "    \n",
    "    print('Movie review predictions:')\n",
    "    for review in input_reviews:\n",
    "        print('\\nReview:', review)\n",
    "        \n",
    "        # Compute the probabilities\n",
    "        probabilities = classifier.prob_classify(extract_features(review.split()))\n",
    "        \n",
    "        # Pick the maximum value\n",
    "        predicted_sentiment = probabilities.max()\n",
    "        \n",
    "        # Print output\n",
    "        print('Predicted sentiment:', predicted_sentiment)\n",
    "        print('Probability:', round(probabilities.prob(predicted_sentiment), 2))"
   ]
  }
 ],
 "metadata": {
  "kernelspec": {
   "display_name": "Python 3",
   "language": "python",
   "name": "python3"
  },
  "language_info": {
   "codemirror_mode": {
    "name": "ipython",
    "version": 3
   },
   "file_extension": ".py",
   "mimetype": "text/x-python",
   "name": "python",
   "nbconvert_exporter": "python",
   "pygments_lexer": "ipython3",
   "version": "3.6.3"
  }
 },
 "nbformat": 4,
 "nbformat_minor": 2
}
