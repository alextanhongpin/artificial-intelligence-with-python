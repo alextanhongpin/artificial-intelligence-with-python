{
 "cells": [
  {
   "cell_type": "code",
   "execution_count": 1,
   "metadata": {},
   "outputs": [],
   "source": [
    "from nltk.tokenize import sent_tokenize, word_tokenize, WordPunctTokenizer"
   ]
  },
  {
   "cell_type": "code",
   "execution_count": 2,
   "metadata": {},
   "outputs": [],
   "source": [
    "# Define input text\n",
    "input_text = 'Do you know how tokenization works? It\\'s actually quite interesting!. Let\\'s analyze a couple of sentence and figure it out.'"
   ]
  },
  {
   "cell_type": "code",
   "execution_count": 5,
   "metadata": {},
   "outputs": [
    {
     "name": "stdout",
     "output_type": "stream",
     "text": [
      "Sentence Tokenizer:\n",
      " ['Do you know how tokenization works?', \"It's actually quite interesting!.\", \"Let's analyze a couple of sentence and figure it out.\"]\n"
     ]
    }
   ],
   "source": [
    "# Sentence tokenizer\n",
    "print('Sentence Tokenizer:\\n', sent_tokenize(input_text))"
   ]
  },
  {
   "cell_type": "code",
   "execution_count": 7,
   "metadata": {},
   "outputs": [
    {
     "name": "stdout",
     "output_type": "stream",
     "text": [
      "Word Tokenizer:\n",
      "\n",
      "['Do', 'you', 'know', 'how', 'tokenization', 'works', '?', 'It', \"'s\", 'actually', 'quite', 'interesting', '!', '.', 'Let', \"'s\", 'analyze', 'a', 'couple', 'of', 'sentence', 'and', 'figure', 'it', 'out', '.']\n"
     ]
    }
   ],
   "source": [
    "# Word tokenizer\n",
    "print('Word Tokenizer:\\n')\n",
    "print(word_tokenize(input_text))"
   ]
  },
  {
   "cell_type": "code",
   "execution_count": 8,
   "metadata": {},
   "outputs": [
    {
     "name": "stdout",
     "output_type": "stream",
     "text": [
      "WordPunct Tokenizer:\n",
      "\n",
      "['Do', 'you', 'know', 'how', 'tokenization', 'works', '?', 'It', \"'\", 's', 'actually', 'quite', 'interesting', '!.', 'Let', \"'\", 's', 'analyze', 'a', 'couple', 'of', 'sentence', 'and', 'figure', 'it', 'out', '.']\n"
     ]
    }
   ],
   "source": [
    "# WordPunct Tokenizer\n",
    "print('WordPunct Tokenizer:\\n')\n",
    "print(WordPunctTokenizer().tokenize(input_text))"
   ]
  }
 ],
 "metadata": {
  "kernelspec": {
   "display_name": "Python 3",
   "language": "python",
   "name": "python3"
  },
  "language_info": {
   "codemirror_mode": {
    "name": "ipython",
    "version": 3
   },
   "file_extension": ".py",
   "mimetype": "text/x-python",
   "name": "python",
   "nbconvert_exporter": "python",
   "pygments_lexer": "ipython3",
   "version": "3.6.3"
  }
 },
 "nbformat": 4,
 "nbformat_minor": 2
}
